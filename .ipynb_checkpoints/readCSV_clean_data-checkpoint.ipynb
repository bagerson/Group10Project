{
 "cells": [
  {
   "cell_type": "code",
   "execution_count": null,
   "metadata": {},
   "outputs": [],
   "source": [
    "# Dependencies\n",
    "import pandas as pd\n",
    "import matplotlib.pyplot as plt"
   ]
  },
  {
   "cell_type": "code",
   "execution_count": null,
   "metadata": {},
   "outputs": [],
   "source": [
    "# Store filepath in a variable\n",
    "file_one = \"Resources/DJIA.csv\"\n",
    "file_two = \"Resources/NASDAQ100.csv\"\n",
    "file_three = \"Resources/SP500.csv\"\n",
    "file_four = \"Resources/HPI_master.csv\""
   ]
  },
  {
   "cell_type": "code",
   "execution_count": null,
   "metadata": {},
   "outputs": [],
   "source": [
    "# Read our Data files with the pandas library and create DF\n",
    "DJIA_df = pd.read_csv(file_one)\n",
    "\n",
    "# Separate out the month and year cols\n",
    "DJIA_df['Year'] = pd.DatetimeIndex(DJIA_df['DATE']).year\n",
    "DJIA_df['Month'] = pd.DatetimeIndex(DJIA_df['DATE']).month\n",
    "\n",
    "# Filter everything before 2009 out (Which just happens to be the year here)\n",
    "DJIA_df = DJIA_df[DJIA_df.Year >= 2009]\n",
    "\n",
    "#Drop junk rows with VALUE of \".\"\n",
    "DJIA_df.drop(DJIA_df[DJIA_df.VALUE == \".\"].index, inplace=True)\n",
    "\n",
    "#Convert the rest to floats\n",
    "DJIA_df['Value'] = DJIA_df['VALUE'].astype(float)\n",
    "\n",
    "#Group by Year, Month and average the 30 days\n",
    "DJIA_df_mean = DJIA_df.groupby(['Year','Month'])['Value'].mean().pct_change()\n",
    "\n",
    "#Multiply it by 100 it's now in percent.\n",
    "DJIA_df_mean = DJIA_df_mean * 100"
   ]
  },
  {
   "cell_type": "code",
   "execution_count": null,
   "metadata": {},
   "outputs": [],
   "source": [
    "NAS_df = pd.read_csv(file_two)\n",
    "\n",
    "NAS_df['Year'] = pd.DatetimeIndex(NAS_df['DATE']).year\n",
    "NAS_df['Month'] = pd.DatetimeIndex(NAS_df['DATE']).month\n",
    "\n",
    "NAS_df = NAS_df[NAS_df.Year >= 2009]\n",
    "\n",
    "NAS_df.drop(NAS_df[NAS_df.VALUE == \".\"].index, inplace=True)\n",
    "\n",
    "NAS_df['VALUE'] = NAS_df['VALUE'].astype(float)\n",
    "\n",
    "NAS_df_mean = NAS_df.groupby(['Year','Month'])['VALUE'].mean().pct_change()\n",
    "\n",
    "NAS_df_mean = NAS_df_mean * 100"
   ]
  },
  {
   "cell_type": "code",
   "execution_count": null,
   "metadata": {},
   "outputs": [],
   "source": [
    "SP500_df = pd.read_csv(file_three)\n",
    "\n",
    "SP500_df = pd.read_csv(file_two)\n",
    "\n",
    "SP500_df['Year'] = pd.DatetimeIndex(SP500_df['DATE']).year\n",
    "SP500_df['Month'] = pd.DatetimeIndex(SP500_df['DATE']).month\n",
    "\n",
    "SP500_df = SP500_df[SP500_df.Year >= 2009]\n",
    "\n",
    "SP500_df.drop(SP500_df[SP500_df.VALUE == \".\"].index, inplace=True)\n",
    "\n",
    "SP500_df['VALUE'] = SP500_df['VALUE'].astype(float)\n",
    "\n",
    "SP500_df_mean = SP500_df.groupby(['Year','Month'])['VALUE'].mean().pct_change()\n",
    "\n",
    "SP500_df_mean = SP500_df_mean * 100"
   ]
  },
  {
   "cell_type": "code",
   "execution_count": null,
   "metadata": {},
   "outputs": [],
   "source": [
    "HPI_df = pd.read_csv(file_four)\n",
    "HPI_df.rename(columns={\"yr\":\"Year\", \"period\":\"Month\"}, inplace=True)\n",
    "\n",
    "HPI_df = HPI_df[HPI_df.Year >= 2009]\n",
    "HPI_df.drop(HPI_df[HPI_df.frequency == \"quarterly\"].index, inplace=True)"
   ]
  },
  {
   "cell_type": "code",
   "execution_count": null,
   "metadata": {},
   "outputs": [],
   "source": [
    "#PLAYGROUND. this is such bullshit. Fucking hell.\n",
    "\n",
    "# DJIA_df[\"Month Year\"] = pd.to_datetime(DJIA_df['DATE']).dt.to_period('M')\n",
    "# my = DJIA_df[\"Month Year\"]\n",
    "# y = DJIA_df_mean\n",
    "\n",
    "\n",
    "# #What we're looking for is plot_date\n",
    "# fig, ax = plt.subplots()\n",
    "\n",
    "# y.index = DJIA_df['Month Year'].unique()\n",
    "# x = y.index\n",
    "\n",
    "# plt.plot_date(y.index, y)"
   ]
  }
 ],
 "metadata": {
  "kernelspec": {
   "display_name": "Python 3",
   "language": "python",
   "name": "python3"
  },
  "language_info": {
   "codemirror_mode": {
    "name": "ipython",
    "version": 3
   },
   "file_extension": ".py",
   "mimetype": "text/x-python",
   "name": "python",
   "nbconvert_exporter": "python",
   "pygments_lexer": "ipython3",
   "version": "3.7.1"
  }
 },
 "nbformat": 4,
 "nbformat_minor": 2
}
